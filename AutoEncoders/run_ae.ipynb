{
 "cells": [
  {
   "cell_type": "code",
   "execution_count": 1,
   "metadata": {},
   "outputs": [],
   "source": [
    "import sys\n",
    "sys.path.append(\"..\")"
   ]
  },
  {
   "cell_type": "code",
   "execution_count": 2,
   "metadata": {},
   "outputs": [],
   "source": [
    "from train_autoencoder import *\n",
    "from test_autoencoder import *"
   ]
  },
  {
   "cell_type": "code",
   "execution_count": 3,
   "metadata": {},
   "outputs": [],
   "source": [
    "from C2D_Models import *\n",
    "from PatchWise.models_PatchWise import *"
   ]
  },
  {
   "cell_type": "code",
   "execution_count": 4,
   "metadata": {},
   "outputs": [],
   "source": [
    "DATA_TYPE = \"HAM10000\"\n",
    "IMAGE_TYPE = \"normal\" # change\n",
    "OPTIMIZER_TYPE = \"adam\"\n",
    "LOSS_TYPE = \"mse\"\n",
    "BATCH_SIZE = 64\n",
    "DENOISING = True\n",
    "IMAGE_SIZE = 128\n",
    "EPOCHS = 300\n",
    "EXTRA = \"CMB\""
   ]
  },
  {
   "cell_type": "code",
   "execution_count": 5,
   "metadata": {},
   "outputs": [
    {
     "name": "stdout",
     "output_type": "stream",
     "text": [
      "['../../VAD_MODEL_TREE/HAM10000/C2D/C2D_AE_128_3X3_COMBO_SQZEX_INCACB4_DP_DENOISING_ADAM_MSE_HAM10000_NORMAL-{CMB}',\n",
      " '../../VAD_MODEL_TREE/HAM10000/C2D/C2D_AE_128_3X3_COMBO_SQZEX_INCACB4_DP_RES_DENOISING_ADAM_MSE_HAM10000_NORMAL-{CMB}']\n"
     ]
    }
   ],
   "source": [
    "train_data, CHANNELS = select_dataset(dataset=DATA_TYPE, isTrain=True, image_size = IMAGE_SIZE, image_type = IMAGE_TYPE)\n",
    "\n",
    "models = [\n",
    "#     C2D_AE_COMBO(channels = CHANNELS, extra_id = \"default\"),\n",
    "    C2D_AE_COMBO(channels = CHANNELS, acb_layers=[True, True, True, False, False], sqzex_layers= [True]*5, dropouts=[0.0, 0.0, 0.0, 0.01, 0.05], extra_id = \"sqzex_incacb4_dp\"),\n",
    "    C2D_AE_COMBO(channels = CHANNELS, acb_layers=[True, True, True, False, False], res_layers=[False, False, True, True, False], sqzex_layers= [True]*5, dropouts=[0.0, 0.0, 0.0, 0.01, 0.05], extra_id = \"sqzex_incacb4_dp_res\"),\n",
    "]\n",
    "\n",
    "LOSS_TYPES = [LOSS_TYPE] * len(models)\n",
    "# LOSS_TYPES = [\"mse\", \"weighted\", \"weighted\", \"weighted\"]\n",
    "OPTIMIZERS_TYPES = [OPTIMIZER_TYPE] * len(models)\n",
    "\n",
    "model_files = [\n",
    "        complete_model_name(\n",
    "            m.__name__,\n",
    "            optimizer_type=OPTIMIZER_TYPE,\n",
    "            loss_type=LOSS_TYPE,\n",
    "            dataset_type=DATA_TYPE,\n",
    "            image_type=IMAGE_TYPE,\n",
    "            isDeNoising=DENOISING,\n",
    "            extra = EXTRA\n",
    "        ) for m, LOSS_TYPE, OPTIMIZERS_TYPE in zip(models, LOSS_TYPES, OPTIMIZERS_TYPES)\n",
    "    ]\n",
    "\n",
    "model_files = [join_paths([\"../../VAD_MODEL_TREE/\"+DATA_TYPE.upper()+\"/C2D/\", mn]) for mn in model_files]\n",
    "pprint(model_files)"
   ]
  },
  {
   "cell_type": "markdown",
   "metadata": {},
   "source": [
    "# Training"
   ]
  },
  {
   "cell_type": "code",
   "execution_count": 6,
   "metadata": {},
   "outputs": [],
   "source": [
    "optimizers = [select_optimizer[ot](m) for m,ot in zip(models, OPTIMIZERS_TYPES)]\n",
    "losses = [select_loss[lt] for m,lt in zip(models, LOSS_TYPES)]"
   ]
  },
  {
   "cell_type": "code",
   "execution_count": 7,
   "metadata": {},
   "outputs": [],
   "source": [
    "train_loader, val_loader = get_data_loaders(train_data, batch_size=BATCH_SIZE)"
   ]
  },
  {
   "cell_type": "code",
   "execution_count": 8,
   "metadata": {},
   "outputs": [],
   "source": [
    "trainer = AutoEncoder_Trainer(\n",
    "    models,\n",
    "    model_files,\n",
    "    train_loader, \n",
    "    val_loader,\n",
    "    optimizers,\n",
    "    losses,\n",
    "    epochs = EPOCHS\n",
    ")"
   ]
  },
  {
   "cell_type": "code",
   "execution_count": null,
   "metadata": {},
   "outputs": [
    {
     "name": "stdout",
     "output_type": "stream",
     "text": [
      "Model: ../../VAD_MODEL_TREE/HAM10000/C2D/C2D_AE_128_3X3_COMBO_SQZEX_INCACB4_DP_DENOISING_ADAM_MSE_HAM10000_NORMAL-{CMB}/C2D_AE_128_3X3_COMBO_SQZEX_INCACB4_DP_DENOISING_ADAM_MSE_HAM10000_NORMAL-{CMB}.pth.tar\n",
      "Maximum estimated Time: 7.60 hours | Will be completed by: 2021-03-24 23:58\n",
      "------------------------------------------------------------\n",
      "\n",
      "/usr/bin/nvidia-modprobe: unrecognized option: \"-s\"\n",
      "\n",
      "ERROR: Invalid commandline, please run `/usr/bin/nvidia-modprobe --help` for usage information.\n",
      "\n",
      "\n",
      "/usr/bin/nvidia-modprobe: unrecognized option: \"-s\"\n",
      "\n",
      "ERROR: Invalid commandline, please run `/usr/bin/nvidia-modprobe --help` for usage information.\n",
      "\n",
      "\n",
      "Wed Mar 24 16:22:07 2021       \n",
      "+-----------------------------------------------------------------------------+\n",
      "| NVIDIA-SMI 450.102.04   Driver Version: 450.102.04   CUDA Version: 11.0     |\n",
      "|-------------------------------+----------------------+----------------------+\n",
      "| GPU  Name        Persistence-M| Bus-Id        Disp.A | Volatile Uncorr. ECC |\n",
      "| Fan  Temp  Perf  Pwr:Usage/Cap|         Memory-Usage | GPU-Util  Compute M. |\n",
      "|                               |                      |               MIG M. |\n",
      "|===============================+======================+======================|\n",
      "|   0  GeForce GTX 1070    Off  | 00000000:01:00.0 Off |                  N/A |\n",
      "| 44%   67C    P2    51W / 151W |   3373MiB /  8119MiB |     57%      Default |\n",
      "|                               |                      |                  N/A |\n",
      "+-------------------------------+----------------------+----------------------+\n",
      "                                                                               \n",
      "+-----------------------------------------------------------------------------+\n",
      "| Processes:                                                                  |\n",
      "|  GPU   GI   CI        PID   Type   Process name                  GPU Memory |\n",
      "|        ID   ID                                                   Usage      |\n",
      "|=============================================================================|\n",
      "|    0   N/A  N/A      1239      G   /usr/lib/xorg/Xorg                 49MiB |\n",
      "|    0   N/A  N/A      1441      G   /usr/bin/gnome-shell               70MiB |\n",
      "|    0   N/A  N/A     22225      C   ...ents/amb_venv/bin/python3     3249MiB |\n",
      "+-----------------------------------------------------------------------------+\n",
      "Model: ../../VAD_MODEL_TREE/HAM10000/C2D/C2D_AE_128_3X3_COMBO_SQZEX_INCACB4_DP_RES_DENOISING_ADAM_MSE_HAM10000_NORMAL-{CMB}/C2D_AE_128_3X3_COMBO_SQZEX_INCACB4_DP_RES_DENOISING_ADAM_MSE_HAM10000_NORMAL-{CMB}.pth.tar\n",
      "Maximum estimated Time: 7.61 hours | Will be completed by: 2021-03-24 23:58\n",
      "------------------------------------------------------------\n",
      "\n",
      "/usr/bin/nvidia-modprobe: unrecognized option: \"-s\"\n",
      "\n",
      "ERROR: Invalid commandline, please run `/usr/bin/nvidia-modprobe --help` for usage information.\n",
      "\n",
      "\n",
      "/usr/bin/nvidia-modprobe: unrecognized option: \"-s\"\n",
      "\n",
      "ERROR: Invalid commandline, please run `/usr/bin/nvidia-modprobe --help` for usage information.\n",
      "\n",
      "\n",
      "Wed Mar 24 16:22:07 2021       \n",
      "+-----------------------------------------------------------------------------+\n",
      "| NVIDIA-SMI 450.102.04   Driver Version: 450.102.04   CUDA Version: 11.0     |\n",
      "|-------------------------------+----------------------+----------------------+\n",
      "| GPU  Name        Persistence-M| Bus-Id        Disp.A | Volatile Uncorr. ECC |\n",
      "| Fan  Temp  Perf  Pwr:Usage/Cap|         Memory-Usage | GPU-Util  Compute M. |\n",
      "|                               |                      |               MIG M. |\n",
      "|===============================+======================+======================|\n",
      "|   0  GeForce GTX 1070    Off  | 00000000:01:00.0 Off |                  N/A |\n",
      "| 44%   67C    P2    51W / 151W |   3373MiB /  8119MiB |      0%      Default |\n",
      "|                               |                      |                  N/A |\n",
      "+-------------------------------+----------------------+----------------------+\n",
      "                                                                               \n",
      "+-----------------------------------------------------------------------------+\n",
      "| Processes:                                                                  |\n",
      "|  GPU   GI   CI        PID   Type   Process name                  GPU Memory |\n",
      "|        ID   ID                                                   Usage      |\n",
      "|=============================================================================|\n",
      "|    0   N/A  N/A      1239      G   /usr/lib/xorg/Xorg                 49MiB |\n",
      "|    0   N/A  N/A      1441      G   /usr/bin/gnome-shell               70MiB |\n",
      "|    0   N/A  N/A     22225      C   ...ents/amb_venv/bin/python3     3249MiB |\n",
      "+-----------------------------------------------------------------------------+\n",
      "Epoch    28: reducing learning rate of group 0 to 7.5000e-04.\n",
      "Epoch    35: reducing learning rate of group 0 to 7.5000e-04.\n",
      "Epoch    36: reducing learning rate of group 0 to 5.6250e-04.\n",
      "Epoch    40: reducing learning rate of group 0 to 5.6250e-04.\n",
      "Epoch    43: reducing learning rate of group 0 to 4.2188e-04.\n",
      "Epoch    47: reducing learning rate of group 0 to 4.2188e-04.\n",
      "Epoch    53: reducing learning rate of group 0 to 3.1641e-04.\n",
      "Epoch    53: reducing learning rate of group 0 to 3.1641e-04.\n",
      "Epoch    58: reducing learning rate of group 0 to 2.3730e-04.\n",
      "Epoch    64: reducing learning rate of group 0 to 2.3730e-04.\n",
      "Epoch    69: reducing learning rate of group 0 to 1.7798e-04.\n",
      "Epoch    71: reducing learning rate of group 0 to 1.7798e-04.\n",
      "Epoch    75: reducing learning rate of group 0 to 1.3348e-04.\n",
      "Epoch    79: reducing learning rate of group 0 to 1.3348e-04.\n",
      "Epoch    86: reducing learning rate of group 0 to 1.0011e-04.\n",
      "Epoch    90: reducing learning rate of group 0 to 1.0011e-04.\n",
      "Epoch    97: reducing learning rate of group 0 to 7.5085e-05.\n",
      "Epoch    97: reducing learning rate of group 0 to 7.5085e-05.\n",
      "Epoch   103: reducing learning rate of group 0 to 5.6314e-05.\n",
      "Epoch   105: reducing learning rate of group 0 to 5.6314e-05.\n",
      "Epoch   109: reducing learning rate of group 0 to 4.2235e-05.\n",
      "Epoch   114: reducing learning rate of group 0 to 3.1676e-05.\n",
      "Epoch   118: reducing learning rate of group 0 to 4.2235e-05.\n",
      "Epoch   120: reducing learning rate of group 0 to 2.3757e-05.\n",
      "Epoch   125: reducing learning rate of group 0 to 1.7818e-05.\n",
      "Epoch   132: reducing learning rate of group 0 to 1.3363e-05.\n",
      "Epoch   132: reducing learning rate of group 0 to 2.3757e-05.\n",
      "Epoch   137: reducing learning rate of group 0 to 1.0023e-05.\n",
      "Epoch   142: reducing learning rate of group 0 to 1.7818e-05.\n",
      "Epoch   146: reducing learning rate of group 0 to 7.5169e-06.\n",
      "Epoch   147: reducing learning rate of group 0 to 1.3363e-05.\n",
      "Epoch   152: reducing learning rate of group 0 to 1.0023e-05.\n",
      "Epoch   153: reducing learning rate of group 0 to 5.6377e-06.\n",
      "Epoch   157: reducing learning rate of group 0 to 7.5169e-06.\n",
      "Epoch   158: reducing learning rate of group 0 to 4.2283e-06.\n",
      "Epoch   163: reducing learning rate of group 0 to 3.1712e-06.\n",
      "Epoch   168: reducing learning rate of group 0 to 2.3784e-06.\n",
      "Epoch   169: reducing learning rate of group 0 to 5.6377e-06.\n",
      "Epoch   173: reducing learning rate of group 0 to 1.7838e-06.\n",
      "Epoch   174: reducing learning rate of group 0 to 4.2283e-06.\n",
      "Epoch   178: reducing learning rate of group 0 to 1.3379e-06.\n",
      "Epoch   183: reducing learning rate of group 0 to 1.0034e-06.\n"
     ]
    }
   ],
   "source": [
    "trainer.train()"
   ]
  },
  {
   "cell_type": "code",
   "execution_count": null,
   "metadata": {},
   "outputs": [],
   "source": [
    "print(\"Training done\")"
   ]
  },
  {
   "cell_type": "markdown",
   "metadata": {},
   "source": [
    "# Testing"
   ]
  },
  {
   "cell_type": "code",
   "execution_count": null,
   "metadata": {},
   "outputs": [],
   "source": [
    "test_data, CHANNELS = select_dataset(dataset = DATA_TYPE, image_size = IMAGE_SIZE, image_type = IMAGE_TYPE, isTrain=False, sample_stride = 1)"
   ]
  },
  {
   "cell_type": "code",
   "execution_count": null,
   "metadata": {},
   "outputs": [],
   "source": [
    "for ae_model in trainer.autoencoder_models:\n",
    "    print(\"-\"*40)\n",
    "    print(ae_model.model_file)\n",
    "    ae_model.model.isTrain = False\n",
    "    tester = AutoEncoder_Tester(\n",
    "        model = ae_model.model,\n",
    "        dataset = test_data,\n",
    "        model_file = ae_model.model_file,\n",
    "        stackFrames = 64,\n",
    "        save_vis = False,\n",
    "        useGPU = True\n",
    "    )\n",
    "    results = tester.test()\n",
    "    print(\"=\"*40)\n",
    "    del tester"
   ]
  },
  {
   "cell_type": "code",
   "execution_count": null,
   "metadata": {},
   "outputs": [],
   "source": [
    "exit()"
   ]
  },
  {
   "cell_type": "code",
   "execution_count": null,
   "metadata": {},
   "outputs": [],
   "source": []
  },
  {
   "cell_type": "code",
   "execution_count": null,
   "metadata": {},
   "outputs": [],
   "source": []
  },
  {
   "cell_type": "raw",
   "metadata": {},
   "source": [
    "# 1\n",
    "# ../../VAD_MODEL_TREE/HAM10000/C2D/C2D_AE_128_3X3_COMBO_DEFAULT_DENOISING_ADAM_MSE_HAM10000_NORMAL-{CMB}/C2D_AE_128_3X3_COMBO_DEFAULT_DENOISING_ADAM_MSE_HAM10000_NORMAL-{CMB}.pth.tar\n",
    "# Per anomaly AUC-ROC scores: [0.83389908 0.72571984 0.71986685 0.65517391 0.7759541  0.60644366] | Mean AUC-ROC Score: 0.7195095746121716\n",
    "\n",
    "# 2\n",
    "# ../../VAD_MODEL_TREE/HAM10000/C2D/C2D_AE_128_3X3_COMBO_SQZEX_DENOISING_ADAM_MSE_HAM10000_NORMAL-{CMB}/C2D_AE_128_3X3_COMBO_SQZEX_DENOISING_ADAM_MSE_HAM10000_NORMAL-{CMB}.pth.tar\n",
    "# Per anomaly AUC-ROC scores: [0.83244648 0.72719844 0.72322314 0.65108696 0.78645815 0.6175    ] | Mean AUC-ROC Score: 0.7229855282653971\n",
    "\n",
    "# 3\n",
    "# ../../VAD_MODEL_TREE/HAM10000/C2D/C2D_AE_128_3X3_COMBO_DROPOUTS_DENOISING_ADAM_MSE_HAM10000_NORMAL-{CMB}/C2D_AE_128_3X3_COMBO_DROPOUTS_DENOISING_ADAM_MSE_HAM10000_NORMAL-{CMB}.pth.tar\n",
    "# Per anomaly AUC-ROC scores: [0.73125382 0.63259728 0.63298898 0.55295652 0.75270927 0.60947183] | Mean AUC-ROC Score: 0.6519962838771588\n",
    "\n",
    "# 4\n",
    "# ../../VAD_MODEL_TREE/HAM10000/C2D/C2D_AE_128_3X3_COMBO_RESNET_DENOISING_ADAM_MSE_HAM10000_NORMAL-{CMB}/C2D_AE_128_3X3_COMBO_RESNET_DENOISING_ADAM_MSE_HAM10000_NORMAL-{CMB}.pth.tar\n",
    "# Per anomaly AUC-ROC scores: [0.83350153 0.71952335 0.71599174 0.65830435 0.76710171 0.58323944] | Mean AUC-ROC Score: 0.7129436842515836\n",
    "       \n",
    "# 5        \n",
    "# ../../VAD_MODEL_TREE/HAM10000/C2D/C2D_AE_128_3X3_COMBO_ACB_DENOISING_ADAM_MSE_HAM10000_NORMAL-{CMB}/C2D_AE_128_3X3_COMBO_ACB_DENOISING_ADAM_MSE_HAM10000_NORMAL-{CMB}.pth.tar\n",
    "# Per anomaly AUC-ROC scores: [0.83525994 0.7297179  0.72209366 0.65873913 0.77537804 0.60609155] | Mean AUC-ROC Score: 0.7212133698527982\n",
    "\n",
    "# 6        \n",
    "# ../../VAD_MODEL_TREE/HAM10000/C2D/C2D_AE_128_3X3_COMBO_SQZEX_ACB_DENOISING_ADAM_MSE_HAM10000_NORMAL-{CMB}/C2D_AE_128_3X3_COMBO_SQZEX_ACB_DENOISING_ADAM_MSE_HAM10000_NORMAL-{CMB}.pth.tar\n",
    "# Per anomaly AUC-ROC scores: [0.8353211  0.7263035  0.72040404 0.66004348 0.77280378 0.5940493 ] | Mean AUC-ROC Score: 0.7181541996134254\n",
    "\n",
    "# 7        \n",
    "# ../../VAD_MODEL_TREE/HAM10000/C2D/C2D_AE_128_3X3_COMBO_SQZEX_ACB_DP_DENOISING_ADAM_MSE_HAM10000_NORMAL-{CMB}/C2D_AE_128_3X3_COMBO_SQZEX_ACB_DP_DENOISING_ADAM_MSE_HAM10000_NORMAL-{CMB}.pth.tar\n",
    "# Per anomaly AUC-ROC scores: [0.8393578  0.74282101 0.72977502 0.66152174 0.79452295 0.6325    ] | Mean AUC-ROC Score: 0.7334164207034658\n",
    "\n",
    "# 8\n",
    "# ../../VAD_MODEL_TREE/HAM10000/C2D/C2D_AE_128_3X3_COMBO_ATTN_TEST_DENOISING_ADAM_MSE_HAM10000_NORMAL-{CMB}/C2D_AE_128_3X3_COMBO_ATTN_TEST_DENOISING_ADAM_MSE_HAM10000_NORMAL-{CMB}.pth.tar\n",
    "# Per anomaly AUC-ROC scores: [0.82588685 0.71649805 0.71254821 0.654      0.77366787 0.59066901] | Mean AUC-ROC Score: 0.712211665810865\n",
    "\n",
    "# 9\n",
    "# ../../VAD_MODEL_TREE/HAM10000/C2D/C2D_AE_128_3X3_COMBO_SQZEX_DP_RES_DENOISING_ADAM_MSE_HAM10000_NORMAL-{CMB}/C2D_AE_128_3X3_COMBO_SQZEX_DP_RES_DENOISING_ADAM_MSE_HAM10000_NORMAL-{CMB}.pth.tar\n",
    "# Per anomaly AUC-ROC scores: [0.83747706 0.74022374 0.71977961 0.66434783 0.78426193 0.63299296] | Mean AUC-ROC Score: 0.729847187329978\n",
    "\n",
    "# 10        \n",
    "# ../../VAD_MODEL_TREE/HAM10000/C2D/C2D_AE_128_3X3_COMBO_SQZEX_INCACB_DP_DENOISING_ADAM_MSE_HAM10000_NORMAL-{CMB}/C2D_AE_128_3X3_COMBO_SQZEX_INCACB_DP_DENOISING_ADAM_MSE_HAM10000_NORMAL-{CMB}.pth.tar\n",
    "# Per anomaly AUC-ROC scores: [0.84252294 0.75021401 0.72902204 0.67369565 0.78927093 0.62739437] | Mean AUC-ROC Score: 0.735353321265536\n",
    "\n",
    "# 11        \n",
    "# ../../VAD_MODEL_TREE/HAM10000/C2D/C2D_AE_128_3X3_COMBO_SQZEX_INCACB_DP_RES_DENOISING_ADAM_MSE_HAM10000_NORMAL-{CMB}/C2D_AE_128_3X3_COMBO_SQZEX_INCACB_DP_RES_DENOISING_ADAM_MSE_HAM10000_NORMAL-{CMB}.pth.tar\n",
    "# Per anomaly AUC-ROC scores: [0.8416208  0.7518677  0.72205234 0.66556522 0.78992799 0.63204225] | Mean AUC-ROC Score: 0.7338460507827828"
   ]
  },
  {
   "cell_type": "code",
   "execution_count": null,
   "metadata": {},
   "outputs": [],
   "source": []
  }
 ],
 "metadata": {
  "kernelspec": {
   "display_name": "Python 3",
   "language": "python",
   "name": "python3"
  },
  "language_info": {
   "codemirror_mode": {
    "name": "ipython",
    "version": 3
   },
   "file_extension": ".py",
   "mimetype": "text/x-python",
   "name": "python",
   "nbconvert_exporter": "python",
   "pygments_lexer": "ipython3",
   "version": "3.6.9"
  }
 },
 "nbformat": 4,
 "nbformat_minor": 4
}
