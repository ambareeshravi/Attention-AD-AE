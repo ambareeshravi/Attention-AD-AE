{
 "cells": [
  {
   "cell_type": "code",
   "execution_count": 1,
   "metadata": {},
   "outputs": [],
   "source": [
    "import sys\n",
    "sys.path.append(\"..\")"
   ]
  },
  {
   "cell_type": "code",
   "execution_count": 2,
   "metadata": {},
   "outputs": [],
   "source": [
    "from train_autoencoder import *\n",
    "from test_autoencoder import *"
   ]
  },
  {
   "cell_type": "code",
   "execution_count": 3,
   "metadata": {},
   "outputs": [],
   "source": [
    "from C2D_Models import *\n",
    "from PatchWise.models_PatchWise import *"
   ]
  },
  {
   "cell_type": "code",
   "execution_count": 4,
   "metadata": {},
   "outputs": [],
   "source": [
    "DATA_TYPE = \"ucsd2\"\n",
    "IMAGE_TYPE = \"normal\" # change\n",
    "OPTIMIZER_TYPE = \"adam\"\n",
    "LOSS_TYPE = \"mse\"\n",
    "BATCH_SIZE = 64\n",
    "DENOISING = False\n",
    "IMAGE_SIZE = 128\n",
    "EPOCHS = 300\n",
    "EXTRA_TAG = \"APE\""
   ]
  },
  {
   "cell_type": "code",
   "execution_count": 5,
   "metadata": {},
   "outputs": [
    {
     "name": "stderr",
     "output_type": "stream",
     "text": [
      "16it [00:02,  7.36it/s]"
     ]
    },
    {
     "name": "stdout",
     "output_type": "stream",
     "text": [
      "['../../ATTN_PPR_MODELS/UCSD2/C2D_AE_128_3X3-_ADAM_MSE_UCSD2_NORMAL-{APE}',\n",
      " '../../ATTN_PPR_MODELS/UCSD2/C2D_AE_128_3X3_SQZEX-_ADAM_MSE_UCSD2_NORMAL-{APE}',\n",
      " '../../ATTN_PPR_MODELS/UCSD2/C2D_AE_128_3X3-_CONV_ATTENTION_P64_L1E-06_C1_ADAM_MSE_UCSD2_NORMAL-{APE}',\n",
      " '../../ATTN_PPR_MODELS/UCSD2/C2D_AE_128_3X3-_SOFTMAX_ATTENTION_P64_C1_ADAM_MSE_UCSD2_NORMAL-{APE}']\n"
     ]
    },
    {
     "name": "stderr",
     "output_type": "stream",
     "text": [
      "\n"
     ]
    }
   ],
   "source": [
    "train_data, CHANNELS = select_dataset(dataset=DATA_TYPE, isTrain=True, image_size = IMAGE_SIZE, image_type = IMAGE_TYPE)\n",
    "\n",
    "models = [\n",
    "    C2D_AE_128_3x3(channels = CHANNELS),\n",
    "    C2D_AE_128_3x3_SQZEX(channels = CHANNELS),\n",
    "    ConvAttentionWrapper(C2D_AE_128_3x3(channels = CHANNELS)),\n",
    "    SoftMaxConvAttentionWrapper(C2D_AE_128_3x3(channels = CHANNELS)),\n",
    "]\n",
    "\n",
    "LOSS_TYPES = [LOSS_TYPE] * len(models)\n",
    "# LOSS_TYPES = [\"mse\", \"weighted\", \"weighted\", \"weighted\"]\n",
    "OPTIMIZERS_TYPES = [OPTIMIZER_TYPE] * len(models)\n",
    "\n",
    "model_files = [\n",
    "        complete_model_name(\n",
    "            m.__name__,\n",
    "            optimizer_type=OPTIMIZER_TYPE,\n",
    "            loss_type=LOSS_TYPE,\n",
    "            dataset_type=DATA_TYPE,\n",
    "            image_type=IMAGE_TYPE,\n",
    "            isDeNoising=DENOISING,\n",
    "            extra = EXTRA_TAG\n",
    "        ) for m, LOSS_TYPE, OPTIMIZERS_TYPE in zip(models, LOSS_TYPES, OPTIMIZERS_TYPES)\n",
    "    ]\n",
    "\n",
    "model_files = [join_paths([\"../../ATTN_PPR_MODELS/\"+DATA_TYPE.upper()+\"/\", mn]) for mn in model_files]\n",
    "pprint(model_files)"
   ]
  },
  {
   "cell_type": "code",
   "execution_count": null,
   "metadata": {},
   "outputs": [],
   "source": []
  },
  {
   "cell_type": "markdown",
   "metadata": {},
   "source": [
    "# Training"
   ]
  },
  {
   "cell_type": "code",
   "execution_count": 6,
   "metadata": {},
   "outputs": [],
   "source": [
    "optimizers = [select_optimizer[ot](m) for m,ot in zip(models, OPTIMIZERS_TYPES)]\n",
    "losses = [select_loss[lt] for m,lt in zip(models, LOSS_TYPES)]"
   ]
  },
  {
   "cell_type": "code",
   "execution_count": 7,
   "metadata": {},
   "outputs": [],
   "source": [
    "train_loader, val_loader = get_data_loaders(train_data, batch_size=BATCH_SIZE)"
   ]
  },
  {
   "cell_type": "code",
   "execution_count": 8,
   "metadata": {},
   "outputs": [],
   "source": [
    "trainer = AutoEncoder_Trainer(\n",
    "    models,\n",
    "    model_files,\n",
    "    train_loader, \n",
    "    val_loader,\n",
    "    optimizers,\n",
    "    losses,\n",
    "    epochs = EPOCHS\n",
    ")"
   ]
  },
  {
   "cell_type": "code",
   "execution_count": 9,
   "metadata": {},
   "outputs": [
    {
     "name": "stdout",
     "output_type": "stream",
     "text": [
      "Model: ../../ATTN_PPR_MODELS/UCSD2/C2D_AE_128_3X3-_ADAM_MSE_UCSD2_NORMAL-{APE}/C2D_AE_128_3X3-_ADAM_MSE_UCSD2_NORMAL-{APE}.pth.tar\n",
      "Maximum estimated Time: 2.40 hours | Will be completed by: 2021-02-11 16:40\n",
      "------------------------------------------------------------\n",
      "\n",
      "/usr/bin/nvidia-modprobe: unrecognized option: \"-s\"\n",
      "\n",
      "ERROR: Invalid commandline, please run `/usr/bin/nvidia-modprobe --help` for usage information.\n",
      "\n",
      "\n",
      "/usr/bin/nvidia-modprobe: unrecognized option: \"-s\"\n",
      "\n",
      "ERROR: Invalid commandline, please run `/usr/bin/nvidia-modprobe --help` for usage information.\n",
      "\n",
      "\n",
      "Thu Feb 11 14:15:48 2021       \n",
      "+-----------------------------------------------------------------------------+\n",
      "| NVIDIA-SMI 450.102.04   Driver Version: 450.102.04   CUDA Version: 11.0     |\n",
      "|-------------------------------+----------------------+----------------------+\n",
      "| GPU  Name        Persistence-M| Bus-Id        Disp.A | Volatile Uncorr. ECC |\n",
      "| Fan  Temp  Perf  Pwr:Usage/Cap|         Memory-Usage | GPU-Util  Compute M. |\n",
      "|                               |                      |               MIG M. |\n",
      "|===============================+======================+======================|\n",
      "|   0  GeForce GTX 1070    Off  | 00000000:01:00.0 Off |                  N/A |\n",
      "| 32%   52C    P2    45W / 151W |   2679MiB /  8119MiB |     76%      Default |\n",
      "|                               |                      |                  N/A |\n",
      "+-------------------------------+----------------------+----------------------+\n",
      "                                                                               \n",
      "+-----------------------------------------------------------------------------+\n",
      "| Processes:                                                                  |\n",
      "|  GPU   GI   CI        PID   Type   Process name                  GPU Memory |\n",
      "|        ID   ID                                                   Usage      |\n",
      "|=============================================================================|\n",
      "|    0   N/A  N/A      1239      G   /usr/lib/xorg/Xorg                 49MiB |\n",
      "|    0   N/A  N/A      1441      G   /usr/bin/gnome-shell               70MiB |\n",
      "|    0   N/A  N/A     24389      C   ...ents/amb_venv/bin/python3     2555MiB |\n",
      "+-----------------------------------------------------------------------------+\n",
      "Model: ../../ATTN_PPR_MODELS/UCSD2/C2D_AE_128_3X3_SQZEX-_ADAM_MSE_UCSD2_NORMAL-{APE}/C2D_AE_128_3X3_SQZEX-_ADAM_MSE_UCSD2_NORMAL-{APE}.pth.tar\n",
      "Maximum estimated Time: 2.41 hours | Will be completed by: 2021-02-11 16:40\n",
      "------------------------------------------------------------\n",
      "\n",
      "/usr/bin/nvidia-modprobe: unrecognized option: \"-s\"\n",
      "\n",
      "ERROR: Invalid commandline, please run `/usr/bin/nvidia-modprobe --help` for usage information.\n",
      "\n",
      "\n",
      "/usr/bin/nvidia-modprobe: unrecognized option: \"-s\"\n",
      "\n",
      "ERROR: Invalid commandline, please run `/usr/bin/nvidia-modprobe --help` for usage information.\n",
      "\n",
      "\n",
      "Thu Feb 11 14:15:48 2021       \n",
      "+-----------------------------------------------------------------------------+\n",
      "| NVIDIA-SMI 450.102.04   Driver Version: 450.102.04   CUDA Version: 11.0     |\n",
      "|-------------------------------+----------------------+----------------------+\n",
      "| GPU  Name        Persistence-M| Bus-Id        Disp.A | Volatile Uncorr. ECC |\n",
      "| Fan  Temp  Perf  Pwr:Usage/Cap|         Memory-Usage | GPU-Util  Compute M. |\n",
      "|                               |                      |               MIG M. |\n",
      "|===============================+======================+======================|\n",
      "|   0  GeForce GTX 1070    Off  | 00000000:01:00.0 Off |                  N/A |\n",
      "| 33%   51C    P2    44W / 151W |   2679MiB /  8119MiB |      0%      Default |\n",
      "|                               |                      |                  N/A |\n",
      "+-------------------------------+----------------------+----------------------+\n",
      "                                                                               \n",
      "+-----------------------------------------------------------------------------+\n",
      "| Processes:                                                                  |\n",
      "|  GPU   GI   CI        PID   Type   Process name                  GPU Memory |\n",
      "|        ID   ID                                                   Usage      |\n",
      "|=============================================================================|\n",
      "|    0   N/A  N/A      1239      G   /usr/lib/xorg/Xorg                 49MiB |\n",
      "|    0   N/A  N/A      1441      G   /usr/bin/gnome-shell               70MiB |\n",
      "|    0   N/A  N/A     24389      C   ...ents/amb_venv/bin/python3     2555MiB |\n",
      "+-----------------------------------------------------------------------------+\n",
      "Model: ../../ATTN_PPR_MODELS/UCSD2/C2D_AE_128_3X3-_CONV_ATTENTION_P64_L1E-06_C1_ADAM_MSE_UCSD2_NORMAL-{APE}/C2D_AE_128_3X3-_CONV_ATTENTION_P64_L1E-06_C1_ADAM_MSE_UCSD2_NORMAL-{APE}.pth.tar\n",
      "Maximum estimated Time: 2.42 hours | Will be completed by: 2021-02-11 16:41\n",
      "------------------------------------------------------------\n",
      "\n",
      "/usr/bin/nvidia-modprobe: unrecognized option: \"-s\"\n",
      "\n",
      "ERROR: Invalid commandline, please run `/usr/bin/nvidia-modprobe --help` for usage information.\n",
      "\n",
      "\n",
      "/usr/bin/nvidia-modprobe: unrecognized option: \"-s\"\n",
      "\n",
      "ERROR: Invalid commandline, please run `/usr/bin/nvidia-modprobe --help` for usage information.\n",
      "\n",
      "\n",
      "Thu Feb 11 14:15:48 2021       \n",
      "+-----------------------------------------------------------------------------+\n",
      "| NVIDIA-SMI 450.102.04   Driver Version: 450.102.04   CUDA Version: 11.0     |\n",
      "|-------------------------------+----------------------+----------------------+\n",
      "| GPU  Name        Persistence-M| Bus-Id        Disp.A | Volatile Uncorr. ECC |\n",
      "| Fan  Temp  Perf  Pwr:Usage/Cap|         Memory-Usage | GPU-Util  Compute M. |\n",
      "|                               |                      |               MIG M. |\n",
      "|===============================+======================+======================|\n",
      "|   0  GeForce GTX 1070    Off  | 00000000:01:00.0 Off |                  N/A |\n",
      "| 33%   51C    P2    44W / 151W |   2679MiB /  8119MiB |      0%      Default |\n",
      "|                               |                      |                  N/A |\n",
      "+-------------------------------+----------------------+----------------------+\n",
      "                                                                               \n",
      "+-----------------------------------------------------------------------------+\n",
      "| Processes:                                                                  |\n",
      "|  GPU   GI   CI        PID   Type   Process name                  GPU Memory |\n",
      "|        ID   ID                                                   Usage      |\n",
      "|=============================================================================|\n",
      "|    0   N/A  N/A      1239      G   /usr/lib/xorg/Xorg                 49MiB |\n",
      "|    0   N/A  N/A      1441      G   /usr/bin/gnome-shell               70MiB |\n",
      "|    0   N/A  N/A     24389      C   ...ents/amb_venv/bin/python3     2555MiB |\n",
      "+-----------------------------------------------------------------------------+\n",
      "Model: ../../ATTN_PPR_MODELS/UCSD2/C2D_AE_128_3X3-_SOFTMAX_ATTENTION_P64_C1_ADAM_MSE_UCSD2_NORMAL-{APE}/C2D_AE_128_3X3-_SOFTMAX_ATTENTION_P64_C1_ADAM_MSE_UCSD2_NORMAL-{APE}.pth.tar\n",
      "Maximum estimated Time: 2.43 hours | Will be completed by: 2021-02-11 16:41\n",
      "------------------------------------------------------------\n",
      "\n",
      "/usr/bin/nvidia-modprobe: unrecognized option: \"-s\"\n",
      "\n",
      "ERROR: Invalid commandline, please run `/usr/bin/nvidia-modprobe --help` for usage information.\n",
      "\n",
      "\n",
      "/usr/bin/nvidia-modprobe: unrecognized option: \"-s\"\n",
      "\n",
      "ERROR: Invalid commandline, please run `/usr/bin/nvidia-modprobe --help` for usage information.\n",
      "\n",
      "\n",
      "Thu Feb 11 14:15:48 2021       \n",
      "+-----------------------------------------------------------------------------+\n",
      "| NVIDIA-SMI 450.102.04   Driver Version: 450.102.04   CUDA Version: 11.0     |\n",
      "|-------------------------------+----------------------+----------------------+\n",
      "| GPU  Name        Persistence-M| Bus-Id        Disp.A | Volatile Uncorr. ECC |\n",
      "| Fan  Temp  Perf  Pwr:Usage/Cap|         Memory-Usage | GPU-Util  Compute M. |\n",
      "|                               |                      |               MIG M. |\n",
      "|===============================+======================+======================|\n",
      "|   0  GeForce GTX 1070    Off  | 00000000:01:00.0 Off |                  N/A |\n",
      "| 33%   51C    P2    44W / 151W |   2679MiB /  8119MiB |      0%      Default |\n",
      "|                               |                      |                  N/A |\n",
      "+-------------------------------+----------------------+----------------------+\n",
      "                                                                               \n",
      "+-----------------------------------------------------------------------------+\n",
      "| Processes:                                                                  |\n",
      "|  GPU   GI   CI        PID   Type   Process name                  GPU Memory |\n",
      "|        ID   ID                                                   Usage      |\n",
      "|=============================================================================|\n",
      "|    0   N/A  N/A      1239      G   /usr/lib/xorg/Xorg                 49MiB |\n",
      "|    0   N/A  N/A      1441      G   /usr/bin/gnome-shell               70MiB |\n",
      "|    0   N/A  N/A     24389      C   ...ents/amb_venv/bin/python3     2555MiB |\n",
      "+-----------------------------------------------------------------------------+\n",
      "Epoch     6: reducing learning rate of group 0 to 7.5000e-04.\n",
      "Epoch    11: reducing learning rate of group 0 to 5.6250e-04.\n",
      "Epoch    16: reducing learning rate of group 0 to 4.2188e-04.\n",
      "Epoch    18: reducing learning rate of group 0 to 7.5000e-04.\n",
      "Epoch    21: reducing learning rate of group 0 to 3.1641e-04.\n",
      "Epoch    24: reducing learning rate of group 0 to 7.5000e-04.\n",
      "Epoch    26: reducing learning rate of group 0 to 2.3730e-04.\n",
      "Epoch    31: reducing learning rate of group 0 to 1.7798e-04.\n",
      "Epoch    36: reducing learning rate of group 0 to 1.3348e-04.\n",
      "Epoch    39: reducing learning rate of group 0 to 5.6250e-04.\n",
      "Epoch    41: reducing learning rate of group 0 to 1.0011e-04.\n",
      "Epoch    45: reducing learning rate of group 0 to 5.6250e-04.\n",
      "Epoch    46: reducing learning rate of group 0 to 7.5085e-05.\n",
      "Epoch    49: reducing learning rate of group 0 to 7.5000e-04.\n",
      "Epoch    51: reducing learning rate of group 0 to 4.2188e-04.\n",
      "Epoch    51: reducing learning rate of group 0 to 5.6314e-05.\n",
      "Epoch    52: reducing learning rate of group 0 to 4.2188e-04.\n",
      "Epoch    56: reducing learning rate of group 0 to 4.2235e-05.\n",
      "Epoch    61: reducing learning rate of group 0 to 3.1676e-05.\n",
      "Epoch    62: reducing learning rate of group 0 to 3.1641e-04.\n",
      "Epoch    63: reducing learning rate of group 0 to 5.6250e-04.\n",
      "Epoch    66: reducing learning rate of group 0 to 3.1641e-04.\n",
      "Epoch    66: reducing learning rate of group 0 to 2.3757e-05.\n",
      "Epoch    68: reducing learning rate of group 0 to 4.2188e-04.\n",
      "Epoch    68: reducing learning rate of group 0 to 2.3730e-04.\n",
      "Epoch    71: reducing learning rate of group 0 to 1.7818e-05.\n",
      "Epoch    73: reducing learning rate of group 0 to 3.1641e-04.\n",
      "Epoch    73: reducing learning rate of group 0 to 1.7798e-04.\n",
      "Epoch    76: reducing learning rate of group 0 to 2.3730e-04.\n",
      "Epoch    76: reducing learning rate of group 0 to 1.3363e-05.\n",
      "Epoch    78: reducing learning rate of group 0 to 2.3730e-04.\n",
      "Epoch    81: reducing learning rate of group 0 to 1.0023e-05.\n",
      "Epoch    83: reducing learning rate of group 0 to 1.7798e-04.\n",
      "Epoch    86: reducing learning rate of group 0 to 7.5169e-06.\n",
      "Epoch    88: reducing learning rate of group 0 to 1.3348e-04.\n",
      "Epoch    88: reducing learning rate of group 0 to 1.3348e-04.\n",
      "Epoch    91: reducing learning rate of group 0 to 5.6377e-06.\n",
      "Epoch    93: reducing learning rate of group 0 to 1.0011e-04.\n",
      "Epoch    93: reducing learning rate of group 0 to 1.0011e-04.\n",
      "Epoch    94: reducing learning rate of group 0 to 1.7798e-04.\n",
      "Epoch    96: reducing learning rate of group 0 to 4.2283e-06.\n",
      "Epoch    99: reducing learning rate of group 0 to 1.3348e-04.\n",
      "Epoch   101: reducing learning rate of group 0 to 7.5085e-05.\n",
      "Epoch   101: reducing learning rate of group 0 to 3.1712e-06.\n",
      "Epoch   106: reducing learning rate of group 0 to 2.3784e-06.\n",
      "Epoch   107: reducing learning rate of group 0 to 7.5085e-05.\n",
      "Epoch   111: reducing learning rate of group 0 to 1.0011e-04.\n",
      "Epoch   111: reducing learning rate of group 0 to 5.6314e-05.\n",
      "Epoch   111: reducing learning rate of group 0 to 1.7838e-06.\n",
      "Epoch   116: reducing learning rate of group 0 to 1.3379e-06.\n",
      "Epoch   118: reducing learning rate of group 0 to 4.2235e-05.\n",
      "Epoch   121: reducing learning rate of group 0 to 1.0034e-06.\n",
      "Epoch   123: reducing learning rate of group 0 to 7.5085e-05.\n",
      "Epoch   124: reducing learning rate of group 0 to 5.6314e-05.\n",
      "Epoch   126: reducing learning rate of group 0 to 7.5254e-07.\n",
      "Epoch   128: reducing learning rate of group 0 to 5.6314e-05.\n",
      "Epoch   129: reducing learning rate of group 0 to 3.1676e-05.\n",
      "Epoch   131: reducing learning rate of group 0 to 5.6441e-07.\n",
      "Epoch   136: reducing learning rate of group 0 to 4.2331e-07.\n",
      "Epoch   137: reducing learning rate of group 0 to 2.3757e-05.\n",
      "Epoch   138: reducing learning rate of group 0 to 4.2235e-05.\n",
      "Epoch   141: reducing learning rate of group 0 to 3.1748e-07.\n",
      "Epoch   145: reducing learning rate of group 0 to 1.7818e-05.\n",
      "Epoch   146: reducing learning rate of group 0 to 2.3811e-07.\n",
      "Epoch   151: reducing learning rate of group 0 to 1.7858e-07.\n",
      "Epoch   153: reducing learning rate of group 0 to 4.2235e-05.\n",
      "Epoch   153: reducing learning rate of group 0 to 3.1676e-05.\n",
      "Epoch   153: reducing learning rate of group 0 to 1.3363e-05.\n",
      "Epoch   156: reducing learning rate of group 0 to 1.3394e-07.\n",
      "Epoch   158: reducing learning rate of group 0 to 2.3757e-05.\n",
      "Epoch   161: reducing learning rate of group 0 to 1.0045e-07.\n",
      "Epoch   166: reducing learning rate of group 0 to 7.5339e-08.\n",
      "Epoch   171: reducing learning rate of group 0 to 5.6504e-08.\n",
      "Epoch   175: reducing learning rate of group 0 to 1.0023e-05.\n",
      "Epoch   176: reducing learning rate of group 0 to 4.2378e-08.\n",
      "Epoch   181: reducing learning rate of group 0 to 7.5169e-06.\n",
      "Epoch   181: reducing learning rate of group 0 to 3.1784e-08.\n",
      "Epoch   189: reducing learning rate of group 0 to 1.7818e-05.\n",
      "Epoch   194: reducing learning rate of group 0 to 1.3363e-05.\n",
      "Epoch   196: reducing learning rate of group 0 to 5.6377e-06.\n",
      "Epoch   199: reducing learning rate of group 0 to 1.0023e-05.\n",
      "Epoch   204: reducing learning rate of group 0 to 7.5169e-06.\n",
      "Epoch   219: reducing learning rate of group 0 to 4.2283e-06.\n",
      "Epoch   220: reducing learning rate of group 0 to 3.1676e-05.\n",
      "Epoch   229: reducing learning rate of group 0 to 2.3757e-05.\n",
      "Epoch   230: reducing learning rate of group 0 to 3.1712e-06.\n",
      "Epoch   237: reducing learning rate of group 0 to 2.3784e-06.\n",
      "Epoch   238: reducing learning rate of group 0 to 1.7818e-05.\n",
      "Epoch   249: reducing learning rate of group 0 to 1.7838e-06.\n",
      "Epoch   254: reducing learning rate of group 0 to 1.3379e-06.\n",
      "Epoch   259: reducing learning rate of group 0 to 1.0034e-06.\n",
      "Epoch   264: reducing learning rate of group 0 to 7.5254e-07.\n",
      "Epoch   267: reducing learning rate of group 0 to 5.6377e-06.\n",
      "Epoch   278: reducing learning rate of group 0 to 5.6441e-07.\n",
      "Epoch   285: reducing learning rate of group 0 to 4.2283e-06.\n",
      "Epoch   286: reducing learning rate of group 0 to 4.2331e-07.\n",
      "Epoch   287: reducing learning rate of group 0 to 1.3363e-05.\n",
      "Epoch   291: reducing learning rate of group 0 to 3.1748e-07.\n",
      "Epoch   298: reducing learning rate of group 0 to 2.3811e-07.\n"
     ]
    },
    {
     "data": {
      "text/plain": [
       "['../../ATTN_PPR_MODELS/UCSD2/C2D_AE_128_3X3-_ADAM_MSE_UCSD2_NORMAL-{APE}',\n",
       " '../../ATTN_PPR_MODELS/UCSD2/C2D_AE_128_3X3_SQZEX-_ADAM_MSE_UCSD2_NORMAL-{APE}',\n",
       " '../../ATTN_PPR_MODELS/UCSD2/C2D_AE_128_3X3-_CONV_ATTENTION_P64_L1E-06_C1_ADAM_MSE_UCSD2_NORMAL-{APE}',\n",
       " '../../ATTN_PPR_MODELS/UCSD2/C2D_AE_128_3X3-_SOFTMAX_ATTENTION_P64_C1_ADAM_MSE_UCSD2_NORMAL-{APE}']"
      ]
     },
     "execution_count": 9,
     "metadata": {},
     "output_type": "execute_result"
    }
   ],
   "source": [
    "trainer.train()"
   ]
  },
  {
   "cell_type": "code",
   "execution_count": 10,
   "metadata": {},
   "outputs": [
    {
     "name": "stdout",
     "output_type": "stream",
     "text": [
      "Training done\n"
     ]
    }
   ],
   "source": [
    "print(\"Training done\")"
   ]
  },
  {
   "cell_type": "markdown",
   "metadata": {},
   "source": [
    "# Testing"
   ]
  },
  {
   "cell_type": "code",
   "execution_count": 11,
   "metadata": {},
   "outputs": [
    {
     "name": "stderr",
     "output_type": "stream",
     "text": [
      "../general/data.py:486: VisibleDeprecationWarning: Creating an ndarray from ragged nested sequences (which is a list-or-tuple of lists-or-tuples-or ndarrays with different lengths or shapes) is deprecated. If you meant to do this, you must specify 'dtype=object' when creating the ndarray\n",
      "  temporal_labels = np.array(temporal_labels)\n",
      "12it [00:02,  4.10it/s]\n"
     ]
    }
   ],
   "source": [
    "test_data, CHANNELS = select_dataset(dataset = DATA_TYPE, image_size = IMAGE_SIZE, image_type = IMAGE_TYPE, isTrain=False, sample_stride = 1)"
   ]
  },
  {
   "cell_type": "code",
   "execution_count": 12,
   "metadata": {},
   "outputs": [
    {
     "name": "stderr",
     "output_type": "stream",
     "text": [
      "0it [00:00, ?it/s]"
     ]
    },
    {
     "name": "stdout",
     "output_type": "stream",
     "text": [
      "----------------------------------------\n",
      "../../ATTN_PPR_MODELS/UCSD2/C2D_AE_128_3X3-_ADAM_MSE_UCSD2_NORMAL-{APE}/C2D_AE_128_3X3-_ADAM_MSE_UCSD2_NORMAL-{APE}.pth.tar\n"
     ]
    },
    {
     "name": "stderr",
     "output_type": "stream",
     "text": [
      "7it [00:05,  1.37it/s]/home/ambreesh/Documents/amb_venv/lib/python3.6/site-packages/sklearn/metrics/_ranking.py:681: RuntimeWarning: invalid value encountered in true_divide\n",
      "  recall = tps / tps[-1]\n",
      "/home/ambreesh/Documents/amb_venv/lib/python3.6/site-packages/sklearn/metrics/_ranking.py:681: RuntimeWarning: invalid value encountered in true_divide\n",
      "  recall = tps / tps[-1]\n",
      "/home/ambreesh/Documents/amb_venv/lib/python3.6/site-packages/sklearn/metrics/_ranking.py:681: RuntimeWarning: invalid value encountered in true_divide\n",
      "  recall = tps / tps[-1]\n",
      "/home/ambreesh/Documents/amb_venv/lib/python3.6/site-packages/sklearn/metrics/_ranking.py:681: RuntimeWarning: invalid value encountered in true_divide\n",
      "  recall = tps / tps[-1]\n",
      "8it [00:05,  1.36it/s]/home/ambreesh/Documents/amb_venv/lib/python3.6/site-packages/sklearn/metrics/_ranking.py:681: RuntimeWarning: invalid value encountered in true_divide\n",
      "  recall = tps / tps[-1]\n",
      "/home/ambreesh/Documents/amb_venv/lib/python3.6/site-packages/sklearn/metrics/_ranking.py:681: RuntimeWarning: invalid value encountered in true_divide\n",
      "  recall = tps / tps[-1]\n",
      "/home/ambreesh/Documents/amb_venv/lib/python3.6/site-packages/sklearn/metrics/_ranking.py:681: RuntimeWarning: invalid value encountered in true_divide\n",
      "  recall = tps / tps[-1]\n",
      "/home/ambreesh/Documents/amb_venv/lib/python3.6/site-packages/sklearn/metrics/_ranking.py:681: RuntimeWarning: invalid value encountered in true_divide\n",
      "  recall = tps / tps[-1]\n",
      "9it [00:06,  1.47it/s]/home/ambreesh/Documents/amb_venv/lib/python3.6/site-packages/sklearn/metrics/_ranking.py:681: RuntimeWarning: invalid value encountered in true_divide\n",
      "  recall = tps / tps[-1]\n",
      "/home/ambreesh/Documents/amb_venv/lib/python3.6/site-packages/sklearn/metrics/_ranking.py:681: RuntimeWarning: invalid value encountered in true_divide\n",
      "  recall = tps / tps[-1]\n",
      "/home/ambreesh/Documents/amb_venv/lib/python3.6/site-packages/sklearn/metrics/_ranking.py:681: RuntimeWarning: invalid value encountered in true_divide\n",
      "  recall = tps / tps[-1]\n",
      "/home/ambreesh/Documents/amb_venv/lib/python3.6/site-packages/sklearn/metrics/_ranking.py:681: RuntimeWarning: invalid value encountered in true_divide\n",
      "  recall = tps / tps[-1]\n",
      "10it [00:07,  1.50it/s]/home/ambreesh/Documents/amb_venv/lib/python3.6/site-packages/sklearn/metrics/_ranking.py:681: RuntimeWarning: invalid value encountered in true_divide\n",
      "  recall = tps / tps[-1]\n",
      "/home/ambreesh/Documents/amb_venv/lib/python3.6/site-packages/sklearn/metrics/_ranking.py:681: RuntimeWarning: invalid value encountered in true_divide\n",
      "  recall = tps / tps[-1]\n",
      "/home/ambreesh/Documents/amb_venv/lib/python3.6/site-packages/sklearn/metrics/_ranking.py:681: RuntimeWarning: invalid value encountered in true_divide\n",
      "  recall = tps / tps[-1]\n",
      "/home/ambreesh/Documents/amb_venv/lib/python3.6/site-packages/sklearn/metrics/_ranking.py:681: RuntimeWarning: invalid value encountered in true_divide\n",
      "  recall = tps / tps[-1]\n",
      "12it [00:08,  1.41it/s]\n",
      "/home/ambreesh/Documents/amb_venv/lib/python3.6/site-packages/numpy/core/_asarray.py:83: VisibleDeprecationWarning: Creating an ndarray from ragged nested sequences (which is a list-or-tuple of lists-or-tuples-or ndarrays with different lengths or shapes) is deprecated. If you meant to do this, you must specify 'dtype=object' when creating the ndarray\n",
      "  return array(a, dtype, copy=False, order=order)\n",
      "0it [00:00, ?it/s]"
     ]
    },
    {
     "name": "stdout",
     "output_type": "stream",
     "text": [
      "OrderedDict([('auc_roc_score_agg_absolute', 0.8739138014268089), ('auc_roc_score_agg_psnr', 0.8453256584240735), ('auc_roc_score_agg_squared', 0.8384966877648448), ('auc_roc_score_agg_ssim', 0.8261847610363139), ('auc_roc_score_mean_absolute', 0.924842366596246), ('auc_roc_score_mean_psnr', 0.8266458877419519), ('auc_roc_score_mean_squared', 0.8259738667521), ('auc_roc_score_mean_ssim', 0.8718140138456316), ('auc_roc_score_overall_absolute', 0.6949558815641259), ('auc_roc_score_overall_psnr', 0.7255420935471759), ('auc_roc_score_overall_squared', 0.723803840583597), ('auc_roc_score_overall_ssim', 0.7107241994314221), ('eer_agg_absolute', 0.19889502762430938), ('eer_agg_psnr', 0.25138121546961234), ('eer_agg_squared', 0.2651933701657435), ('eer_agg_ssim', 0.2659107534747623), ('eer_overall_absolute', 0.4538703870387114), ('eer_overall_psnr', 0.3816747572816059), ('eer_overall_squared', 0.3828883495133143), ('eer_overall_ssim', 0.4203730272596844), ('pr_roc_score_agg_absolute', 0.6584254432055067), ('pr_roc_score_agg_psnr', 0.667830842517112), ('pr_roc_score_agg_squared', 0.6692428085980349), ('pr_roc_score_agg_ssim', 0.6834748445835506), ('pr_roc_score_mean_absolute', nan), ('pr_roc_score_mean_psnr', nan), ('pr_roc_score_mean_squared', nan), ('pr_roc_score_mean_ssim', nan), ('pr_roc_score_overall_absolute', 0.7183511645526307), ('pr_roc_score_overall_psnr', 0.7125539516186234), ('pr_roc_score_overall_squared', 0.7137865053339056), ('pr_roc_score_overall_ssim', 0.7164289475244529), ('precision_absolute_agg', 0.8714525202845514), ('precision_squared_agg', 0.8495129094078011), ('precision_ssim_agg', 0.8726846311809296), ('precision_psnr_agg', 0.8417039994429099), ('recall_absolute_agg', 0.7825870646766169), ('recall_squared_agg', 0.6691542288557214), ('recall_ssim_agg', 0.6985074626865672), ('recall_psnr_agg', 0.7432835820895523), ('f1-score_absolute_agg', 0.8049612475456289), ('f1-score_squared_agg', 0.7073947750139962), ('f1-score_ssim_agg', 0.7333896987556184), ('f1-score_psnr_agg', 0.7702326811749025), ('support_absolute_agg', 2010), ('support_squared_agg', 2010), ('support_ssim_agg', 2010), ('support_psnr_agg', 2010), ('conf_mat_absolute_agg', '1257,391,46,316'), ('conf_mat_squared_agg', '1024,624,41,321'), ('conf_mat_ssim_agg', '1060,588,18,344'), ('conf_mat_psnr_agg', '1209,439,77,285'), ('precision_absolute_overall', 0.8088309354135546), ('precision_squared_overall', 0.8138954907759287), ('precision_ssim_overall', 0.7947383171548664), ('precision_psnr_overall', 0.8153380400348684), ('recall_absolute_overall', 0.7940298507462686), ('recall_squared_overall', 0.5582089552238806), ('recall_ssim_overall', 0.7621890547263681), ('recall_psnr_overall', 0.5522388059701493), ('f1-score_absolute_overall', 0.8005293281213168), ('f1-score_squared_overall', 0.6046365712055164), ('f1-score_ssim_overall', 0.7754070089767101), ('f1-score_psnr_overall', 0.5984820484151392), ('support_absolute_overall', 2010), ('support_squared_overall', 2010), ('support_ssim_overall', 2010), ('support_psnr_overall', 2010), ('conf_mat_absolute_overall', '1408,240,174,188'), ('conf_mat_squared_overall', '818,830,58,304'), ('conf_mat_ssim_overall', '1344,304,174,188'), ('conf_mat_psnr_overall', '803,845,55,307')])\n",
      "========================================\n",
      "----------------------------------------\n",
      "../../ATTN_PPR_MODELS/UCSD2/C2D_AE_128_3X3_SQZEX-_ADAM_MSE_UCSD2_NORMAL-{APE}/C2D_AE_128_3X3_SQZEX-_ADAM_MSE_UCSD2_NORMAL-{APE}.pth.tar\n"
     ]
    },
    {
     "name": "stderr",
     "output_type": "stream",
     "text": [
      "7it [00:05,  1.38it/s]/home/ambreesh/Documents/amb_venv/lib/python3.6/site-packages/sklearn/metrics/_ranking.py:681: RuntimeWarning: invalid value encountered in true_divide\n",
      "  recall = tps / tps[-1]\n",
      "/home/ambreesh/Documents/amb_venv/lib/python3.6/site-packages/sklearn/metrics/_ranking.py:681: RuntimeWarning: invalid value encountered in true_divide\n",
      "  recall = tps / tps[-1]\n",
      "/home/ambreesh/Documents/amb_venv/lib/python3.6/site-packages/sklearn/metrics/_ranking.py:681: RuntimeWarning: invalid value encountered in true_divide\n",
      "  recall = tps / tps[-1]\n",
      "/home/ambreesh/Documents/amb_venv/lib/python3.6/site-packages/sklearn/metrics/_ranking.py:681: RuntimeWarning: invalid value encountered in true_divide\n",
      "  recall = tps / tps[-1]\n",
      "8it [00:05,  1.38it/s]/home/ambreesh/Documents/amb_venv/lib/python3.6/site-packages/sklearn/metrics/_ranking.py:681: RuntimeWarning: invalid value encountered in true_divide\n",
      "  recall = tps / tps[-1]\n",
      "/home/ambreesh/Documents/amb_venv/lib/python3.6/site-packages/sklearn/metrics/_ranking.py:681: RuntimeWarning: invalid value encountered in true_divide\n",
      "  recall = tps / tps[-1]\n",
      "/home/ambreesh/Documents/amb_venv/lib/python3.6/site-packages/sklearn/metrics/_ranking.py:681: RuntimeWarning: invalid value encountered in true_divide\n",
      "  recall = tps / tps[-1]\n",
      "/home/ambreesh/Documents/amb_venv/lib/python3.6/site-packages/sklearn/metrics/_ranking.py:681: RuntimeWarning: invalid value encountered in true_divide\n",
      "  recall = tps / tps[-1]\n",
      "9it [00:06,  1.50it/s]/home/ambreesh/Documents/amb_venv/lib/python3.6/site-packages/sklearn/metrics/_ranking.py:681: RuntimeWarning: invalid value encountered in true_divide\n",
      "  recall = tps / tps[-1]\n",
      "/home/ambreesh/Documents/amb_venv/lib/python3.6/site-packages/sklearn/metrics/_ranking.py:681: RuntimeWarning: invalid value encountered in true_divide\n",
      "  recall = tps / tps[-1]\n",
      "/home/ambreesh/Documents/amb_venv/lib/python3.6/site-packages/sklearn/metrics/_ranking.py:681: RuntimeWarning: invalid value encountered in true_divide\n",
      "  recall = tps / tps[-1]\n",
      "/home/ambreesh/Documents/amb_venv/lib/python3.6/site-packages/sklearn/metrics/_ranking.py:681: RuntimeWarning: invalid value encountered in true_divide\n",
      "  recall = tps / tps[-1]\n",
      "10it [00:06,  1.52it/s]/home/ambreesh/Documents/amb_venv/lib/python3.6/site-packages/sklearn/metrics/_ranking.py:681: RuntimeWarning: invalid value encountered in true_divide\n",
      "  recall = tps / tps[-1]\n",
      "/home/ambreesh/Documents/amb_venv/lib/python3.6/site-packages/sklearn/metrics/_ranking.py:681: RuntimeWarning: invalid value encountered in true_divide\n",
      "  recall = tps / tps[-1]\n",
      "/home/ambreesh/Documents/amb_venv/lib/python3.6/site-packages/sklearn/metrics/_ranking.py:681: RuntimeWarning: invalid value encountered in true_divide\n",
      "  recall = tps / tps[-1]\n",
      "/home/ambreesh/Documents/amb_venv/lib/python3.6/site-packages/sklearn/metrics/_ranking.py:681: RuntimeWarning: invalid value encountered in true_divide\n",
      "  recall = tps / tps[-1]\n",
      "12it [00:08,  1.42it/s]\n",
      "/home/ambreesh/Documents/amb_venv/lib/python3.6/site-packages/numpy/core/_asarray.py:83: VisibleDeprecationWarning: Creating an ndarray from ragged nested sequences (which is a list-or-tuple of lists-or-tuples-or ndarrays with different lengths or shapes) is deprecated. If you meant to do this, you must specify 'dtype=object' when creating the ndarray\n",
      "  return array(a, dtype, copy=False, order=order)\n",
      "0it [00:00, ?it/s]"
     ]
    },
    {
     "name": "stdout",
     "output_type": "stream",
     "text": [
      "OrderedDict([('auc_roc_score_agg_absolute', 0.8578303518746981), ('auc_roc_score_agg_psnr', 0.8317029179853028), ('auc_roc_score_agg_squared', 0.8270513731695542), ('auc_roc_score_agg_ssim', 0.8242487126535429), ('auc_roc_score_mean_absolute', 0.9092372698471153), ('auc_roc_score_mean_psnr', 0.8528057022550501), ('auc_roc_score_mean_squared', 0.8535654849785606), ('auc_roc_score_mean_ssim', 0.8790294843253345), ('auc_roc_score_overall_absolute', 0.6988346832591321), ('auc_roc_score_overall_psnr', 0.7347412567719788), ('auc_roc_score_overall_squared', 0.7335159309124067), ('auc_roc_score_overall_ssim', 0.7240133696293515), ('eer_agg_absolute', 0.22087378640752164), ('eer_agg_psnr', 0.2578883495144584), ('eer_agg_squared', 0.2718446601946132), ('eer_agg_ssim', 0.28033980582534973), ('eer_overall_absolute', 0.4168689320385596), ('eer_overall_psnr', 0.3539618276460382), ('eer_overall_squared', 0.3563535911602211), ('eer_overall_ssim', 0.38531553398150575), ('pr_roc_score_agg_absolute', 0.6658105321212868), ('pr_roc_score_agg_psnr', 0.6722976775342524), ('pr_roc_score_agg_squared', 0.6726503435699327), ('pr_roc_score_agg_ssim', 0.6781899212520699), ('pr_roc_score_mean_absolute', nan), ('pr_roc_score_mean_psnr', nan), ('pr_roc_score_mean_squared', nan), ('pr_roc_score_mean_ssim', nan), ('pr_roc_score_overall_absolute', 0.7181107587207961), ('pr_roc_score_overall_psnr', 0.7117659603469402), ('pr_roc_score_overall_squared', 0.7128044538338884), ('pr_roc_score_overall_ssim', 0.7129805248740164), ('precision_absolute_agg', 0.861287533351644), ('precision_squared_agg', 0.838745762253225), ('precision_ssim_agg', 0.8505116398206984), ('precision_psnr_agg', 0.8391427342683436), ('recall_absolute_agg', 0.7532338308457711), ('recall_squared_agg', 0.6915422885572139), ('recall_ssim_agg', 0.6437810945273632), ('recall_psnr_agg', 0.7189054726368159), ('f1-score_absolute_agg', 0.7800103913927898), ('f1-score_squared_agg', 0.7269246274482389), ('f1-score_ssim_agg', 0.6843170633580444), ('f1-score_psnr_agg', 0.7500444617457712), ('support_absolute_agg', 2010), ('support_squared_agg', 2010), ('support_ssim_agg', 2010), ('support_psnr_agg', 2010), ('conf_mat_absolute_agg', '1202,446,50,312'), ('conf_mat_squared_agg', '1090,558,62,300'), ('conf_mat_ssim_agg', '966,682,34,328'), ('conf_mat_psnr_agg', '1154,494,71,291'), ('precision_absolute_overall', 0.8096472839998232), ('precision_squared_overall', 0.8402238482715463), ('precision_ssim_overall', 0.7976913784361848), ('precision_psnr_overall', 0.8409517989152121), ('recall_absolute_overall', 0.7975124378109453), ('recall_squared_overall', 0.545771144278607), ('recall_ssim_overall', 0.7681592039800995), ('recall_psnr_overall', 0.5437810945273632), ('f1-score_absolute_overall', 0.8029424725186953), ('f1-score_squared_overall', 0.589079247575921), ('f1-score_ssim_overall', 0.7802609132522116), ('f1-score_psnr_overall', 0.5869136714642252), ('support_absolute_overall', 2010), ('support_squared_overall', 2010), ('support_ssim_overall', 2010), ('support_psnr_overall', 2010), ('conf_mat_absolute_overall', '1417,231,176,186'), ('conf_mat_squared_overall', '763,885,28,334'), ('conf_mat_ssim_overall', '1355,293,173,189'), ('conf_mat_psnr_overall', '758,890,27,335')])\n",
      "========================================\n",
      "----------------------------------------\n",
      "../../ATTN_PPR_MODELS/UCSD2/C2D_AE_128_3X3-_CONV_ATTENTION_P64_L1E-06_C1_ADAM_MSE_UCSD2_NORMAL-{APE}/C2D_AE_128_3X3-_CONV_ATTENTION_P64_L1E-06_C1_ADAM_MSE_UCSD2_NORMAL-{APE}.pth.tar\n"
     ]
    },
    {
     "name": "stderr",
     "output_type": "stream",
     "text": [
      "7it [00:05,  1.25it/s]/home/ambreesh/Documents/amb_venv/lib/python3.6/site-packages/sklearn/metrics/_ranking.py:681: RuntimeWarning: invalid value encountered in true_divide\n",
      "  recall = tps / tps[-1]\n",
      "/home/ambreesh/Documents/amb_venv/lib/python3.6/site-packages/sklearn/metrics/_ranking.py:681: RuntimeWarning: invalid value encountered in true_divide\n",
      "  recall = tps / tps[-1]\n",
      "/home/ambreesh/Documents/amb_venv/lib/python3.6/site-packages/sklearn/metrics/_ranking.py:681: RuntimeWarning: invalid value encountered in true_divide\n",
      "  recall = tps / tps[-1]\n",
      "/home/ambreesh/Documents/amb_venv/lib/python3.6/site-packages/sklearn/metrics/_ranking.py:681: RuntimeWarning: invalid value encountered in true_divide\n",
      "  recall = tps / tps[-1]\n",
      "8it [00:06,  1.24it/s]/home/ambreesh/Documents/amb_venv/lib/python3.6/site-packages/sklearn/metrics/_ranking.py:681: RuntimeWarning: invalid value encountered in true_divide\n",
      "  recall = tps / tps[-1]\n",
      "/home/ambreesh/Documents/amb_venv/lib/python3.6/site-packages/sklearn/metrics/_ranking.py:681: RuntimeWarning: invalid value encountered in true_divide\n",
      "  recall = tps / tps[-1]\n",
      "/home/ambreesh/Documents/amb_venv/lib/python3.6/site-packages/sklearn/metrics/_ranking.py:681: RuntimeWarning: invalid value encountered in true_divide\n",
      "  recall = tps / tps[-1]\n",
      "/home/ambreesh/Documents/amb_venv/lib/python3.6/site-packages/sklearn/metrics/_ranking.py:681: RuntimeWarning: invalid value encountered in true_divide\n",
      "  recall = tps / tps[-1]\n",
      "9it [00:06,  1.35it/s]/home/ambreesh/Documents/amb_venv/lib/python3.6/site-packages/sklearn/metrics/_ranking.py:681: RuntimeWarning: invalid value encountered in true_divide\n",
      "  recall = tps / tps[-1]\n",
      "/home/ambreesh/Documents/amb_venv/lib/python3.6/site-packages/sklearn/metrics/_ranking.py:681: RuntimeWarning: invalid value encountered in true_divide\n",
      "  recall = tps / tps[-1]\n",
      "/home/ambreesh/Documents/amb_venv/lib/python3.6/site-packages/sklearn/metrics/_ranking.py:681: RuntimeWarning: invalid value encountered in true_divide\n",
      "  recall = tps / tps[-1]\n",
      "/home/ambreesh/Documents/amb_venv/lib/python3.6/site-packages/sklearn/metrics/_ranking.py:681: RuntimeWarning: invalid value encountered in true_divide\n",
      "  recall = tps / tps[-1]\n",
      "10it [00:07,  1.37it/s]/home/ambreesh/Documents/amb_venv/lib/python3.6/site-packages/sklearn/metrics/_ranking.py:681: RuntimeWarning: invalid value encountered in true_divide\n",
      "  recall = tps / tps[-1]\n",
      "/home/ambreesh/Documents/amb_venv/lib/python3.6/site-packages/sklearn/metrics/_ranking.py:681: RuntimeWarning: invalid value encountered in true_divide\n",
      "  recall = tps / tps[-1]\n",
      "/home/ambreesh/Documents/amb_venv/lib/python3.6/site-packages/sklearn/metrics/_ranking.py:681: RuntimeWarning: invalid value encountered in true_divide\n",
      "  recall = tps / tps[-1]\n",
      "/home/ambreesh/Documents/amb_venv/lib/python3.6/site-packages/sklearn/metrics/_ranking.py:681: RuntimeWarning: invalid value encountered in true_divide\n",
      "  recall = tps / tps[-1]\n",
      "12it [00:09,  1.29it/s]\n",
      "/home/ambreesh/Documents/amb_venv/lib/python3.6/site-packages/numpy/core/_asarray.py:83: VisibleDeprecationWarning: Creating an ndarray from ragged nested sequences (which is a list-or-tuple of lists-or-tuples-or ndarrays with different lengths or shapes) is deprecated. If you meant to do this, you must specify 'dtype=object' when creating the ndarray\n",
      "  return array(a, dtype, copy=False, order=order)\n",
      "0it [00:00, ?it/s]"
     ]
    },
    {
     "name": "stdout",
     "output_type": "stream",
     "text": [
      "OrderedDict([('auc_roc_score_agg_absolute', 0.8789978141929947), ('auc_roc_score_agg_psnr', 0.8654873813227484), ('auc_roc_score_agg_squared', 0.8688783993992384), ('auc_roc_score_agg_ssim', 0.8626126428149976), ('auc_roc_score_mean_absolute', 0.9249344771923423), ('auc_roc_score_mean_psnr', 0.8812964315867792), ('auc_roc_score_mean_squared', 0.8816421447782619), ('auc_roc_score_mean_ssim', 0.926183252613371), ('auc_roc_score_overall_absolute', 0.6998890334173684), ('auc_roc_score_overall_psnr', 0.7290571528187524), ('auc_roc_score_overall_squared', 0.7261270986429222), ('auc_roc_score_overall_ssim', 0.742404991149493), ('eer_agg_absolute', 0.19613259668508345), ('eer_agg_psnr', 0.19435075885328834), ('eer_agg_squared', 0.19356796116592528), ('eer_agg_ssim', 0.21270718232053978), ('eer_overall_absolute', 0.4346358792184715), ('eer_overall_psnr', 0.3762135922326505), ('eer_overall_squared', 0.3737864077677694), ('eer_overall_ssim', 0.38059701492570497), ('pr_roc_score_agg_absolute', 0.6597884384758248), ('pr_roc_score_agg_psnr', 0.6644362077931708), ('pr_roc_score_agg_squared', 0.6623788004659521), ('pr_roc_score_agg_ssim', 0.6694146560015595), ('pr_roc_score_mean_absolute', nan), ('pr_roc_score_mean_psnr', nan), ('pr_roc_score_mean_squared', nan), ('pr_roc_score_mean_ssim', nan), ('pr_roc_score_overall_absolute', 0.7172907747302195), ('pr_roc_score_overall_psnr', 0.7111403825202616), ('pr_roc_score_overall_squared', 0.712675684621656), ('pr_roc_score_overall_ssim', 0.7063768592128175), ('precision_absolute_agg', 0.8700413610769278), ('precision_squared_agg', 0.8655744942658922), ('precision_ssim_agg', 0.8799239471643839), ('precision_psnr_agg', 0.8658619320250189), ('recall_absolute_agg', 0.772636815920398), ('recall_squared_agg', 0.8034825870646766), ('recall_ssim_agg', 0.7651741293532338), ('recall_psnr_agg', 0.8059701492537313), ('f1-score_absolute_agg', 0.796684483512991), ('f1-score_squared_agg', 0.8210687253985053), ('f1-score_ssim_agg', 0.7911337425712698), ('f1-score_psnr_agg', 0.8230657315905919), ('support_absolute_agg', 2010), ('support_squared_agg', 2010), ('support_ssim_agg', 2010), ('support_psnr_agg', 2010), ('conf_mat_absolute_agg', '1235,413,44,318'), ('conf_mat_squared_agg', '1320,328,67,295'), ('conf_mat_ssim_agg', '1202,446,26,336'), ('conf_mat_psnr_agg', '1326,322,68,294'), ('precision_absolute_overall', 0.8108445172794458), ('precision_squared_overall', 0.7930979359741436), ('precision_ssim_overall', 0.8138128643411762), ('precision_psnr_overall', 0.7940728105504226), ('recall_absolute_overall', 0.7990049751243781), ('recall_squared_overall', 0.7776119402985074), ('recall_ssim_overall', 0.6044776119402985), ('recall_psnr_overall', 0.7766169154228856), ('f1-score_absolute_overall', 0.8043064556185531), ('f1-score_squared_overall', 0.7845354535069374), ('f1-score_ssim_overall', 0.649363421559025), ('f1-score_psnr_overall', 0.784317351457729), ('support_absolute_overall', 2010), ('support_squared_overall', 2010), ('support_ssim_overall', 2010), ('support_psnr_overall', 2010), ('conf_mat_absolute_overall', '1419,229,175,187'), ('conf_mat_squared_overall', '1392,256,191,171'), ('conf_mat_ssim_overall', '923,725,70,292'), ('conf_mat_psnr_overall', '1387,261,188,174')])\n",
      "========================================\n",
      "----------------------------------------\n",
      "../../ATTN_PPR_MODELS/UCSD2/C2D_AE_128_3X3-_SOFTMAX_ATTENTION_P64_C1_ADAM_MSE_UCSD2_NORMAL-{APE}/C2D_AE_128_3X3-_SOFTMAX_ATTENTION_P64_C1_ADAM_MSE_UCSD2_NORMAL-{APE}.pth.tar\n"
     ]
    },
    {
     "name": "stderr",
     "output_type": "stream",
     "text": [
      "7it [00:05,  1.25it/s]/home/ambreesh/Documents/amb_venv/lib/python3.6/site-packages/sklearn/metrics/_ranking.py:681: RuntimeWarning: invalid value encountered in true_divide\n",
      "  recall = tps / tps[-1]\n",
      "/home/ambreesh/Documents/amb_venv/lib/python3.6/site-packages/sklearn/metrics/_ranking.py:681: RuntimeWarning: invalid value encountered in true_divide\n",
      "  recall = tps / tps[-1]\n",
      "/home/ambreesh/Documents/amb_venv/lib/python3.6/site-packages/sklearn/metrics/_ranking.py:681: RuntimeWarning: invalid value encountered in true_divide\n",
      "  recall = tps / tps[-1]\n",
      "/home/ambreesh/Documents/amb_venv/lib/python3.6/site-packages/sklearn/metrics/_ranking.py:681: RuntimeWarning: invalid value encountered in true_divide\n",
      "  recall = tps / tps[-1]\n",
      "8it [00:06,  1.24it/s]/home/ambreesh/Documents/amb_venv/lib/python3.6/site-packages/sklearn/metrics/_ranking.py:681: RuntimeWarning: invalid value encountered in true_divide\n",
      "  recall = tps / tps[-1]\n",
      "/home/ambreesh/Documents/amb_venv/lib/python3.6/site-packages/sklearn/metrics/_ranking.py:681: RuntimeWarning: invalid value encountered in true_divide\n",
      "  recall = tps / tps[-1]\n",
      "/home/ambreesh/Documents/amb_venv/lib/python3.6/site-packages/sklearn/metrics/_ranking.py:681: RuntimeWarning: invalid value encountered in true_divide\n",
      "  recall = tps / tps[-1]\n",
      "/home/ambreesh/Documents/amb_venv/lib/python3.6/site-packages/sklearn/metrics/_ranking.py:681: RuntimeWarning: invalid value encountered in true_divide\n",
      "  recall = tps / tps[-1]\n",
      "9it [00:06,  1.35it/s]/home/ambreesh/Documents/amb_venv/lib/python3.6/site-packages/sklearn/metrics/_ranking.py:681: RuntimeWarning: invalid value encountered in true_divide\n",
      "  recall = tps / tps[-1]\n",
      "/home/ambreesh/Documents/amb_venv/lib/python3.6/site-packages/sklearn/metrics/_ranking.py:681: RuntimeWarning: invalid value encountered in true_divide\n",
      "  recall = tps / tps[-1]\n",
      "/home/ambreesh/Documents/amb_venv/lib/python3.6/site-packages/sklearn/metrics/_ranking.py:681: RuntimeWarning: invalid value encountered in true_divide\n",
      "  recall = tps / tps[-1]\n",
      "/home/ambreesh/Documents/amb_venv/lib/python3.6/site-packages/sklearn/metrics/_ranking.py:681: RuntimeWarning: invalid value encountered in true_divide\n",
      "  recall = tps / tps[-1]\n",
      "10it [00:07,  1.38it/s]/home/ambreesh/Documents/amb_venv/lib/python3.6/site-packages/sklearn/metrics/_ranking.py:681: RuntimeWarning: invalid value encountered in true_divide\n",
      "  recall = tps / tps[-1]\n",
      "/home/ambreesh/Documents/amb_venv/lib/python3.6/site-packages/sklearn/metrics/_ranking.py:681: RuntimeWarning: invalid value encountered in true_divide\n",
      "  recall = tps / tps[-1]\n",
      "/home/ambreesh/Documents/amb_venv/lib/python3.6/site-packages/sklearn/metrics/_ranking.py:681: RuntimeWarning: invalid value encountered in true_divide\n",
      "  recall = tps / tps[-1]\n",
      "/home/ambreesh/Documents/amb_venv/lib/python3.6/site-packages/sklearn/metrics/_ranking.py:681: RuntimeWarning: invalid value encountered in true_divide\n",
      "  recall = tps / tps[-1]\n",
      "12it [00:09,  1.29it/s]\n",
      "/home/ambreesh/Documents/amb_venv/lib/python3.6/site-packages/numpy/core/_asarray.py:83: VisibleDeprecationWarning: Creating an ndarray from ragged nested sequences (which is a list-or-tuple of lists-or-tuples-or ndarrays with different lengths or shapes) is deprecated. If you meant to do this, you must specify 'dtype=object' when creating the ndarray\n",
      "  return array(a, dtype, copy=False, order=order)\n"
     ]
    },
    {
     "name": "stdout",
     "output_type": "stream",
     "text": [
      "OrderedDict([('auc_roc_score_agg_absolute', 0.8769477820093332), ('auc_roc_score_agg_psnr', 0.8809556535965241), ('auc_roc_score_agg_squared', 0.8805717963847021), ('auc_roc_score_agg_ssim', 0.7664136673282197), ('auc_roc_score_mean_absolute', 0.890881460173721), ('auc_roc_score_mean_psnr', 0.8958737227812197), ('auc_roc_score_mean_squared', 0.8957816431110558), ('auc_roc_score_mean_ssim', 0.7951458491221577), ('auc_roc_score_overall_absolute', 0.6960504612991472), ('auc_roc_score_overall_psnr', 0.6834803947862468), ('auc_roc_score_overall_squared', 0.6834686611596845), ('auc_roc_score_overall_ssim', 0.6064306978490586), ('eer_agg_absolute', 0.19660194174755558), ('eer_agg_psnr', 0.1878453038674025), ('eer_agg_squared', 0.18784530386740322), ('eer_agg_ssim', 0.35922330097174987), ('eer_overall_absolute', 0.3502321981424181), ('eer_overall_psnr', 0.37016574585635986), ('eer_overall_squared', 0.3701657458563689), ('eer_overall_ssim', 0.4558011049723757), ('pr_roc_score_agg_absolute', 0.6556985841814327), ('pr_roc_score_agg_psnr', 0.6558428134915922), ('pr_roc_score_agg_squared', 0.6559241693028205), ('pr_roc_score_agg_ssim', 0.6921271104671785), ('pr_roc_score_mean_absolute', nan), ('pr_roc_score_mean_psnr', nan), ('pr_roc_score_mean_squared', nan), ('pr_roc_score_mean_ssim', nan), ('pr_roc_score_overall_absolute', 0.737342832585764), ('pr_roc_score_overall_psnr', 0.739452736125217), ('pr_roc_score_overall_squared', 0.7394231333923187), ('pr_roc_score_overall_ssim', 0.7343201199215094), ('precision_absolute_agg', 0.8664797880755104), ('precision_squared_agg', 0.8695810334315214), ('precision_ssim_agg', 0.8318515129406817), ('precision_psnr_agg', 0.8698901500675583), ('recall_absolute_agg', 0.7940298507462686), ('recall_squared_agg', 0.7985074626865671), ('recall_ssim_agg', 0.8407960199004975), ('recall_psnr_agg', 0.799502487562189), ('f1-score_absolute_agg', 0.8136862887232925), ('f1-score_squared_agg', 0.8176352404351204), ('f1-score_ssim_agg', 0.8354526653599793), ('f1-score_psnr_agg', 0.8184677613347862), ('support_absolute_agg', 2010), ('support_squared_agg', 2010), ('support_ssim_agg', 2010), ('support_psnr_agg', 2010), ('conf_mat_absolute_agg', '1294,354,60,302'), ('conf_mat_squared_agg', '1300,348,57,305'), ('conf_mat_ssim_agg', '1516,132,188,174'), ('conf_mat_psnr_agg', '1302,346,57,305'), ('precision_absolute_overall', 0.7958639899998932), ('precision_squared_overall', 0.7835962925839305), ('precision_ssim_overall', 0.8039710005587578), ('precision_psnr_overall', 0.7835962925839305), ('recall_absolute_overall', 0.7208955223880597), ('recall_squared_overall', 0.7), ('recall_ssim_overall', 0.781592039800995), ('recall_psnr_overall', 0.7), ('f1-score_absolute_overall', 0.7465052872363938), ('f1-score_squared_overall', 0.7286798414267538), ('f1-score_ssim_overall', 0.7910181877869215), ('f1-score_psnr_overall', 0.7286798414267538), ('support_absolute_overall', 2010), ('support_squared_overall', 2010), ('support_ssim_overall', 2010), ('support_psnr_overall', 2010), ('conf_mat_absolute_overall', '1231,417,144,218'), ('conf_mat_squared_overall', '1199,449,154,208'), ('conf_mat_ssim_overall', '1381,267,172,190'), ('conf_mat_psnr_overall', '1199,449,154,208')])\n",
      "========================================\n"
     ]
    }
   ],
   "source": [
    "for ae_model in trainer.autoencoder_models:\n",
    "    print(\"-\"*40)\n",
    "    print(ae_model.model_file)\n",
    "    ae_model.model.isTrain = False\n",
    "    tester = AutoEncoder_Tester(\n",
    "        model = ae_model.model,\n",
    "        dataset = test_data,\n",
    "        model_file = ae_model.model_file,\n",
    "        stackFrames = 64,\n",
    "        save_vis = False,\n",
    "        useGPU = True\n",
    "    )\n",
    "    results = tester.test()\n",
    "    print(\"=\"*40)\n",
    "    del tester"
   ]
  },
  {
   "cell_type": "code",
   "execution_count": 13,
   "metadata": {},
   "outputs": [],
   "source": [
    "exit()"
   ]
  },
  {
   "cell_type": "code",
   "execution_count": null,
   "metadata": {},
   "outputs": [],
   "source": []
  }
 ],
 "metadata": {
  "kernelspec": {
   "display_name": "Python 3",
   "language": "python",
   "name": "python3"
  },
  "language_info": {
   "codemirror_mode": {
    "name": "ipython",
    "version": 3
   },
   "file_extension": ".py",
   "mimetype": "text/x-python",
   "name": "python",
   "nbconvert_exporter": "python",
   "pygments_lexer": "ipython3",
   "version": "3.6.9"
  }
 },
 "nbformat": 4,
 "nbformat_minor": 4
}
