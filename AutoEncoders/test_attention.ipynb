{
 "cells": [
  {
   "cell_type": "code",
   "execution_count": 1,
   "metadata": {},
   "outputs": [],
   "source": [
    "import torch\n",
    "from torch import nn\n",
    "import sys\n",
    "sys.path.append(\"..\")\n",
    "from general.model_utils import *\n",
    "from general.data import *"
   ]
  },
  {
   "cell_type": "code",
   "execution_count": 2,
   "metadata": {},
   "outputs": [],
   "source": [
    "from general.utils import *"
   ]
  },
  {
   "cell_type": "code",
   "execution_count": 3,
   "metadata": {},
   "outputs": [],
   "source": [
    "from C2D_Models import *"
   ]
  },
  {
   "cell_type": "code",
   "execution_count": 4,
   "metadata": {},
   "outputs": [
    {
     "name": "stderr",
     "output_type": "stream",
     "text": [
      "12it [00:01,  6.77it/s]\n"
     ]
    }
   ],
   "source": [
    "test_data = UCSD(dataset_type=2, isTrain=False)\n",
    "# test_data = Avenue(isTrain=False)"
   ]
  },
  {
   "cell_type": "code",
   "execution_count": 5,
   "metadata": {},
   "outputs": [],
   "source": [
    "attention_version = ConvAttentionWapper(C2D_AE_128_3x3(channels = 1))\n",
    "load_model(attention_version, \"../../VAD_MODEL_TREE/UCSD2/C2D/C2D_3x3_128_CONV_ATTENTION_MSE_UCSD2/C2D_3x3_128_CONV_ATTENTION_MSE_UCSD2.pth.tar\")"
   ]
  },
  {
   "cell_type": "code",
   "execution_count": 6,
   "metadata": {},
   "outputs": [],
   "source": [
    "normal_version = C2D_AE_128_3x3(channels = 1)\n",
    "load_model(normal_version, \"../../VAD_MODEL_TREE/UCSD2/C2D/C2D_3x3_128_MSE_UCSD2/C2D_3x3_128_MSE_UCSD2.pth.tar\")"
   ]
  },
  {
   "cell_type": "code",
   "execution_count": 5,
   "metadata": {},
   "outputs": [],
   "source": [
    "test_img1 = test_data[2][0][-4]"
   ]
  },
  {
   "cell_type": "code",
   "execution_count": 6,
   "metadata": {},
   "outputs": [],
   "source": [
    "class ActivationVisualizer:\n",
    "    def __init__(self,):\n",
    "        pass\n",
    "    \n",
    "    def get_layer_outputs(self, layer, inputs):\n",
    "        while len(inputs.shape) < 4: \n",
    "            inputs = inputs.unsqueeze(dim = 0)\n",
    "        outputs = list(layer(inputs))\n",
    "        return outputs[0]\n",
    "    \n",
    "    def normalize_tensor(self, x):\n",
    "        return (x - x.min()) / (x.max() - x.min())\n",
    "    \n",
    "    def to_255(self, x):\n",
    "        if x.max() > 1:\n",
    "            print(x.max())\n",
    "            return x\n",
    "        return (x * 255).type(torch.uint8)\n",
    "    \n",
    "    def display(self, x):\n",
    "        x = x.squeeze()\n",
    "        x = self.normalize_tensor(x)\n",
    "        img_array = tensor_to_numpy(x)\n",
    "        img_array = image_255(img_array)\n",
    "        img = Image.fromarray(img_array)\n",
    "        img.show()\n",
    "        return img\n",
    "        \n",
    "    def save_activations(self, input_tensor, file_path, padding = 0):\n",
    "        if \".png\" not in file_path: file_path += \".png\"\n",
    "        input_tensor = input_tensor.squeeze()\n",
    "        assert len(input_tensor.shape) < 4, \"Too many dimensions in the input\"\n",
    "        n = input_tensor.shape[0]\n",
    "        if len(input_tensor.shape) == 3: input_tensor = input_tensor.unsqueeze(dim = 1)\n",
    "        grid = make_grid(input_tensor, nrow=int(np.round(np.sqrt(n))), padding = padding)\n",
    "        save_image(grid, file_path,)"
   ]
  },
  {
   "cell_type": "code",
   "execution_count": 7,
   "metadata": {},
   "outputs": [],
   "source": [
    "act_viz = ActivationVisualizer()"
   ]
  },
  {
   "cell_type": "code",
   "execution_count": 8,
   "metadata": {},
   "outputs": [
    {
     "data": {
      "image/png": "[encoded data removed]",
      "text/plain": [
       "<PIL.Image.Image image mode=L size=128x128 at 0x7F6144633A20>"
      ]
     },
     "execution_count": 8,
     "metadata": {},
     "output_type": "execute_result"
    }
   ],
   "source": [
    "act_viz.display(test_img1)"
   ]
  },
  {
   "cell_type": "code",
   "execution_count": 9,
   "metadata": {},
   "outputs": [],
   "source": [
    "model = AAC_AE(channels=1)\n",
    "load_model(model, \"../../VAD_models/C2D_AE_models/128/experiments/AAC_AE_MSE_UCSD2/AAC_AE_MSE_UCSD2.pth.tar\")"
   ]
  },
  {
   "cell_type": "code",
   "execution_count": null,
   "metadata": {},
   "outputs": [],
   "source": []
  },
  {
   "cell_type": "code",
   "execution_count": 15,
   "metadata": {},
   "outputs": [],
   "source": [
    "act_outs = act_viz.get_layer_outputs(nn.Sequential(model.encoder[6], model.encoder[7], model.encoder[8]), act_outs)\n",
    "act_viz.save_activations(act_outs, \"dummy/attention_el3.png\")"
   ]
  },
  {
   "cell_type": "code",
   "execution_count": null,
   "metadata": {},
   "outputs": [],
   "source": []
  },
  {
   "cell_type": "code",
   "execution_count": 12,
   "metadata": {},
   "outputs": [],
   "source": [
    "act_outs = act_viz.get_layer_outputs(attention_version.model.encoder[0], test_img1)\n",
    "act_viz.save_activations(act_outs, \"dummy/attention_el1.png\")"
   ]
  },
  {
   "cell_type": "code",
   "execution_count": 13,
   "metadata": {},
   "outputs": [],
   "source": [
    "normal_outs = act_viz.get_layer_outputs(normal_version.encoder[0], test_img1)\n",
    "act_viz.save_activations(normal_outs, \"dummy/normal_el1.png\")"
   ]
  },
  {
   "cell_type": "code",
   "execution_count": 15,
   "metadata": {},
   "outputs": [],
   "source": [
    "act_outs = act_viz.get_layer_outputs(attention_version.model.encoder[1], act_outs)\n",
    "act_viz.save_activations(act_outs, \"dummy/attention_el2.png\")"
   ]
  },
  {
   "cell_type": "code",
   "execution_count": 16,
   "metadata": {},
   "outputs": [],
   "source": [
    "normal_outs = act_viz.get_layer_outputs(normal_version.encoder[1], normal_outs)\n",
    "act_viz.save_activations(normal_outs, \"dummy/normal_el2.png\")"
   ]
  },
  {
   "cell_type": "code",
   "execution_count": 17,
   "metadata": {},
   "outputs": [],
   "source": [
    "act_outs = act_viz.get_layer_outputs(attention_version.model.encoder[2], act_outs)\n",
    "act_viz.save_activations(act_outs, \"dummy/attention_el3.png\")"
   ]
  },
  {
   "cell_type": "code",
   "execution_count": 18,
   "metadata": {},
   "outputs": [],
   "source": [
    "normal_outs = act_viz.get_layer_outputs(normal_version.encoder[2], normal_outs)\n",
    "act_viz.save_activations(normal_outs, \"dummy/normal_el3.png\")"
   ]
  },
  {
   "cell_type": "code",
   "execution_count": null,
   "metadata": {},
   "outputs": [],
   "source": [
    "torch.optim.Adam(nn.Conv2d(3,3,1).param)"
   ]
  },
  {
   "cell_type": "code",
   "execution_count": 19,
   "metadata": {},
   "outputs": [
    {
     "ename": "TypeError",
     "evalue": "__init__() missing 1 required positional argument: 'optimizer'",
     "output_type": "error",
     "traceback": [
      "\u001b[0;31m---------------------------------------------------------------------------\u001b[0m",
      "\u001b[0;31mTypeError\u001b[0m                                 Traceback (most recent call last)",
      "\u001b[0;32m<ipython-input-19-9e08fb50c10c>\u001b[0m in \u001b[0;36m<module>\u001b[0;34m\u001b[0m\n\u001b[0;32m----> 1\u001b[0;31m \u001b[0mscheduler\u001b[0m \u001b[0;34m=\u001b[0m \u001b[0mtorch\u001b[0m\u001b[0;34m.\u001b[0m\u001b[0moptim\u001b[0m\u001b[0;34m.\u001b[0m\u001b[0mlr_scheduler\u001b[0m\u001b[0;34m.\u001b[0m\u001b[0mReduceLROnPlateau\u001b[0m\u001b[0;34m(\u001b[0m\u001b[0;34m)\u001b[0m\u001b[0;34m\u001b[0m\u001b[0;34m\u001b[0m\u001b[0m\n\u001b[0m",
      "\u001b[0;31mTypeError\u001b[0m: __init__() missing 1 required positional argument: 'optimizer'"
     ]
    }
   ],
   "source": [
    "scheduler = torch.optim.lr_scheduler.ReduceLROnPlateau()"
   ]
  },
  {
   "cell_type": "code",
   "execution_count": 24,
   "metadata": {},
   "outputs": [],
   "source": [
    "scheduler.step(0.120)"
   ]
  }
 ],
 "metadata": {
  "kernelspec": {
   "display_name": "Python 3",
   "language": "python",
   "name": "python3"
  },
  "language_info": {
   "codemirror_mode": {
    "name": "ipython",
    "version": 3
   },
   "file_extension": ".py",
   "mimetype": "text/x-python",
   "name": "python",
   "nbconvert_exporter": "python",
   "pygments_lexer": "ipython3",
   "version": "3.6.9"
  }
 },
 "nbformat": 4,
 "nbformat_minor": 4
}
